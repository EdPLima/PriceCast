{
 "cells": [
  {
   "cell_type": "markdown",
   "id": "66054fa9",
   "metadata": {},
   "source": [
    "### Modelagem do modelo de series temporais\n",
    "\n",
    "O modelo **SARIMAX** foi escolhido para esta análise por ser uma extensão do modelo ARIMA que incorpora a componente sazonal \"S\", essencial para capturar padrões periódicos na série temporal. Além disso, o SARIMAX permite a inclusão de variáveis exógenas (fatores externos), possibilitando a análise de como variáveis adicionais podem influenciar o comportametno da série principal ao longo do tempo.\n",
    "\n",
    "Esse modelo é o modelo SARIMA, que combina os componentes ARIMA para modelar tendências não sazonais e componentes sazonais específicos para lidar com padrões que se repetem em intervalores regulares.\n",
    "\n",
    "Parâmetros **não** sazonais\n",
    "\n",
    "- p (autoregressive - AR): Número de defasagens da série temporal (lag).\n",
    "- d (difference): número de diferenciações necessárias para tornar a série estacionária\n",
    "- q (moving average - MA): Número de defasagens nos erros (resíduos)\n",
    "\n",
    "Parâmetros sazonais\n",
    "\n",
    "- P (sazonal AR): Número de defasagens sazonais.\n",
    "- D (sazonal difference): Número de diferenciações sazonais.\n",
    "- Q (sazonal MA): Número de médias móveis sazonais.\n",
    "- S (sazonalidade): período da sazonalidade (ex: 12 para dados mensais com padrão anual).\n",
    "\n",
    "O parâmetro X em SARIMAX representa a inclusão de variáveis exógenas no modelo. São variáveis externas que podem influênciar a série que está sendo modelada.\n"
   ]
  },
  {
   "cell_type": "code",
   "execution_count": 108,
   "id": "68327e4f",
   "metadata": {},
   "outputs": [],
   "source": [
    "import pandas as pd\n",
    "import numpy as np\n",
    "import os\n",
    "import pickle\n",
    "from sklearn.metrics import mean_absolute_error\n",
    "import matplotlib.pyplot as plt\n",
    "from pmdarima.arima import auto_arima\n",
    "from statsmodels.tsa.statespace.sarimax import SARIMAX\n",
    "from sklearn.metrics import mean_squared_error"
   ]
  },
  {
   "cell_type": "code",
   "execution_count": 72,
   "id": "b1392cb8",
   "metadata": {},
   "outputs": [
    {
     "data": {
      "text/html": [
       "<div>\n",
       "<style scoped>\n",
       "    .dataframe tbody tr th:only-of-type {\n",
       "        vertical-align: middle;\n",
       "    }\n",
       "\n",
       "    .dataframe tbody tr th {\n",
       "        vertical-align: top;\n",
       "    }\n",
       "\n",
       "    .dataframe thead th {\n",
       "        text-align: right;\n",
       "    }\n",
       "</style>\n",
       "<table border=\"1\" class=\"dataframe\">\n",
       "  <thead>\n",
       "    <tr style=\"text-align: right;\">\n",
       "      <th></th>\n",
       "      <th>populacao_pessoas</th>\n",
       "      <th>leite_uht_industria</th>\n",
       "      <th>leite_uht_supermercado</th>\n",
       "      <th>preco_leite_produtor</th>\n",
       "    </tr>\n",
       "    <tr>\n",
       "      <th>data</th>\n",
       "      <th></th>\n",
       "      <th></th>\n",
       "      <th></th>\n",
       "      <th></th>\n",
       "    </tr>\n",
       "  </thead>\n",
       "  <tbody>\n",
       "    <tr>\n",
       "      <th>2007-02-01</th>\n",
       "      <td>0.000850</td>\n",
       "      <td>0.0</td>\n",
       "      <td>-0.007398</td>\n",
       "      <td>0.062721</td>\n",
       "    </tr>\n",
       "    <tr>\n",
       "      <th>2007-03-01</th>\n",
       "      <td>0.000849</td>\n",
       "      <td>0.0</td>\n",
       "      <td>0.010707</td>\n",
       "      <td>0.042416</td>\n",
       "    </tr>\n",
       "    <tr>\n",
       "      <th>2007-04-01</th>\n",
       "      <td>0.000849</td>\n",
       "      <td>0.0</td>\n",
       "      <td>0.030502</td>\n",
       "      <td>0.083423</td>\n",
       "    </tr>\n",
       "    <tr>\n",
       "      <th>2007-05-01</th>\n",
       "      <td>0.000848</td>\n",
       "      <td>0.0</td>\n",
       "      <td>0.092346</td>\n",
       "      <td>0.073984</td>\n",
       "    </tr>\n",
       "    <tr>\n",
       "      <th>2007-06-01</th>\n",
       "      <td>0.000847</td>\n",
       "      <td>0.0</td>\n",
       "      <td>0.151256</td>\n",
       "      <td>0.097514</td>\n",
       "    </tr>\n",
       "  </tbody>\n",
       "</table>\n",
       "</div>"
      ],
      "text/plain": [
       "            populacao_pessoas  leite_uht_industria  leite_uht_supermercado  \\\n",
       "data                                                                         \n",
       "2007-02-01           0.000850                  0.0               -0.007398   \n",
       "2007-03-01           0.000849                  0.0                0.010707   \n",
       "2007-04-01           0.000849                  0.0                0.030502   \n",
       "2007-05-01           0.000848                  0.0                0.092346   \n",
       "2007-06-01           0.000847                  0.0                0.151256   \n",
       "\n",
       "            preco_leite_produtor  \n",
       "data                              \n",
       "2007-02-01              0.062721  \n",
       "2007-03-01              0.042416  \n",
       "2007-04-01              0.083423  \n",
       "2007-05-01              0.073984  \n",
       "2007-06-01              0.097514  "
      ]
     },
     "execution_count": 72,
     "metadata": {},
     "output_type": "execute_result"
    }
   ],
   "source": [
    "dados_modelo = pd.read_csv(r\"C:\\Users\\eduar\\OneDrive\\Documentos\\SandoBox\\Projetos\\PriceCast\\Dataset\\dados_preprocessados.csv\",  index_col=0)\n",
    "dados_modelo.head()"
   ]
  },
  {
   "cell_type": "code",
   "execution_count": 73,
   "id": "62fa3201",
   "metadata": {},
   "outputs": [],
   "source": [
    "dados_modelo = dados_modelo.drop(columns = ['populacao_pessoas'], axis = 1)"
   ]
  },
  {
   "cell_type": "code",
   "execution_count": 74,
   "id": "eed513c5",
   "metadata": {},
   "outputs": [
    {
     "name": "stdout",
     "output_type": "stream",
     "text": [
      "<class 'pandas.core.frame.DataFrame'>\n",
      "Index: 198 entries, 2007-02-01 to 2024-12-01\n",
      "Data columns (total 3 columns):\n",
      " #   Column                  Non-Null Count  Dtype  \n",
      "---  ------                  --------------  -----  \n",
      " 0   leite_uht_industria     198 non-null    float64\n",
      " 1   leite_uht_supermercado  198 non-null    float64\n",
      " 2   preco_leite_produtor    198 non-null    float64\n",
      "dtypes: float64(3)\n",
      "memory usage: 6.2+ KB\n"
     ]
    }
   ],
   "source": [
    "dados_modelo.info()"
   ]
  },
  {
   "cell_type": "markdown",
   "id": "8864d83f",
   "metadata": {},
   "source": [
    "Percebe-se que possui alguns meses faltando em determinados anos, com esse tipo de comportamento, a nossa série temporal se torna irregular, para isso faremos alguns processos para torna-la regular."
   ]
  },
  {
   "cell_type": "code",
   "execution_count": 75,
   "id": "1cdd700d",
   "metadata": {},
   "outputs": [],
   "source": [
    "dados_modelo.index = pd.to_datetime(dados_modelo.index).to_period('M').to_timestamp()\n",
    "\n",
    "index_mensal = pd.date_range(\n",
    "    start=dados_modelo.index.min(),\n",
    "    end=dados_modelo.index.max(),\n",
    "    freq='MS'\n",
    ")\n",
    "\n",
    "dados_modelo_tratado = dados_modelo.reindex(index=index_mensal)"
   ]
  },
  {
   "cell_type": "markdown",
   "id": "27dedc24",
   "metadata": {},
   "source": [
    "Podemos observar que existe valores nulos no nosso dataframe, o que é esperado, pois não tinha informações de um determinado mês e com isso foi gerado um registro com aquela data o que resultado em nulo."
   ]
  },
  {
   "cell_type": "code",
   "execution_count": 76,
   "id": "965b218f",
   "metadata": {},
   "outputs": [
    {
     "name": "stdout",
     "output_type": "stream",
     "text": [
      "<class 'pandas.core.frame.DataFrame'>\n",
      "DatetimeIndex: 215 entries, 2007-02-01 to 2024-12-01\n",
      "Freq: MS\n",
      "Data columns (total 3 columns):\n",
      " #   Column                  Non-Null Count  Dtype  \n",
      "---  ------                  --------------  -----  \n",
      " 0   leite_uht_industria     198 non-null    float64\n",
      " 1   leite_uht_supermercado  198 non-null    float64\n",
      " 2   preco_leite_produtor    198 non-null    float64\n",
      "dtypes: float64(3)\n",
      "memory usage: 6.7 KB\n"
     ]
    }
   ],
   "source": [
    "dados_modelo_tratado.info()"
   ]
  },
  {
   "cell_type": "markdown",
   "id": "b68d69c4",
   "metadata": {},
   "source": [
    "### Técnica de Interpolação Linear\n",
    "\n",
    "É uma técnica de preenchimento de valores ausentes baseada em uma suposição simples: os dados variam de forma linear entre dois pontos conhecidos. Quando usada neste caso, relacioando a séries temporais, essa técnica estima os valores ausentes ao traçar uma linha reta entre o ponto anterior e o posterior preenchendo os valores nulos com valores proporcionais ao intervalo entre eles."
   ]
  },
  {
   "cell_type": "code",
   "execution_count": 77,
   "id": "4380c1b0",
   "metadata": {},
   "outputs": [],
   "source": [
    "dados_modelo_tratado = dados_modelo_tratado.interpolate(method='spline', order=3)"
   ]
  },
  {
   "cell_type": "code",
   "execution_count": 78,
   "id": "56e8ce80",
   "metadata": {},
   "outputs": [
    {
     "name": "stdout",
     "output_type": "stream",
     "text": [
      "<class 'pandas.core.frame.DataFrame'>\n",
      "DatetimeIndex: 215 entries, 2007-02-01 to 2024-12-01\n",
      "Freq: MS\n",
      "Data columns (total 3 columns):\n",
      " #   Column                  Non-Null Count  Dtype  \n",
      "---  ------                  --------------  -----  \n",
      " 0   leite_uht_industria     215 non-null    float64\n",
      " 1   leite_uht_supermercado  215 non-null    float64\n",
      " 2   preco_leite_produtor    215 non-null    float64\n",
      "dtypes: float64(3)\n",
      "memory usage: 6.7 KB\n"
     ]
    }
   ],
   "source": [
    "dados_modelo_tratado.info()"
   ]
  },
  {
   "cell_type": "markdown",
   "id": "dfc21a45",
   "metadata": {},
   "source": [
    "### Divisão de treino e teste\n",
    "\n",
    "Quando se trata de séries temporais, a divisão entre dados de treinamento e teste, deve respeitar a ordem temporal dos dados. Isso significa que não se deve dividir os dados de forma aleatória, como é normalmente feito em problemas de classificação ou regressão. Pois, cada observação está dependendo do tempo. Isso significa que os dados mais recentes dependem dos valores passados para serem previstos. Se embaralhar os dados de forma aleatória irá aver uma quebra na sequência temporal  natural, o modelo pode acabar treinando com dados mais recentes e sendo testado em dados anteriores o que é irrealista para previsões futuras.\n"
   ]
  },
  {
   "cell_type": "code",
   "execution_count": 79,
   "id": "8373c72b",
   "metadata": {},
   "outputs": [],
   "source": [
    "# Definindo a proporção de treino (80%)\n",
    "dados_treinamento = int(len(dados_modelo_tratado) * 0.8)\n",
    "\n",
    "treino = dados_modelo.iloc[:dados_treinamento]\n",
    "teste = dados_modelo.iloc[dados_treinamento:]"
   ]
  },
  {
   "cell_type": "code",
   "execution_count": 80,
   "id": "8eff2ac5",
   "metadata": {},
   "outputs": [],
   "source": [
    "\n",
    "y_train = treino['preco_leite_produtor']\n",
    "y_test = teste['preco_leite_produtor']\n",
    "X_train = treino.drop(columns='preco_leite_produtor')\n",
    "X_test = teste.drop(columns='preco_leite_produtor')\n",
    "\n",
    "\n",
    "X_train.index = pd.to_datetime(X_train.index, errors='coerce')\n",
    "X_test.index = pd.to_datetime(X_test.index, errors='coerce')\n",
    "y_train.index = pd.to_datetime(y_train.index, errors='coerce')\n",
    "y_test.index = pd.to_datetime(y_test.index, errors='coerce')\n",
    "\n",
    "#Remover linhas com índice inválido (caso existam)\n",
    "valid_index_train = X_train.index.notna() & y_train.index.notna()\n",
    "X_train = X_train[valid_index_train]\n",
    "y_train = y_train[valid_index_train]\n",
    "\n",
    "valid_index_test = X_test.index.notna() & y_test.index.notna()\n",
    "X_test = X_test[valid_index_test]\n",
    "y_test = y_test[valid_index_test]\n",
    "\n",
    "# Interpolar valores faltantes se necessário\n",
    "X_train = X_train.interpolate()\n",
    "X_test = X_test.interpolate()\n",
    "y_train = y_train.interpolate()\n",
    "y_test = y_test.interpolate()\n",
    "\n",
    "X_train = X_train.asfreq('MS', method='pad')\n",
    "y_train = y_train.asfreq('MS', method='pad')\n",
    "X_test = X_test.asfreq('MS', method='pad')\n",
    "y_test = y_test.asfreq('MS', method='pad')\n"
   ]
  },
  {
   "cell_type": "code",
   "execution_count": 81,
   "id": "4203f8ae",
   "metadata": {},
   "outputs": [],
   "source": [
    "# Manter apenas datas em que ambos possuem dados válidos\n",
    "common_index = X_train.index.intersection(y_train.index)\n",
    "\n",
    "X_train_clean = X_train.loc[common_index]\n",
    "y_train_clean = y_train.loc[common_index]"
   ]
  },
  {
   "cell_type": "markdown",
   "id": "77f1bee0",
   "metadata": {},
   "source": [
    "### Escolhendo os melhores parâmetros para o Modelo SARIMAX, utilizando o Auto_Arima"
   ]
  },
  {
   "cell_type": "code",
   "execution_count": 82,
   "id": "aa9de37f",
   "metadata": {},
   "outputs": [
    {
     "name": "stdout",
     "output_type": "stream",
     "text": [
      "Performing stepwise search to minimize aic\n",
      " ARIMA(2,0,2)(1,0,1)[12] intercept   : AIC=-611.049, Time=0.58 sec\n",
      " ARIMA(0,0,0)(0,0,0)[12] intercept   : AIC=-517.484, Time=0.03 sec\n",
      " ARIMA(1,0,0)(1,0,0)[12] intercept   : AIC=-608.331, Time=0.24 sec\n",
      " ARIMA(0,0,1)(0,0,1)[12] intercept   : AIC=-611.920, Time=0.37 sec\n",
      " ARIMA(0,0,0)(0,0,0)[12]             : AIC=-518.085, Time=0.02 sec\n",
      " ARIMA(0,0,1)(0,0,0)[12] intercept   : AIC=-607.446, Time=0.08 sec\n",
      " ARIMA(0,0,1)(1,0,1)[12] intercept   : AIC=inf, Time=0.44 sec\n",
      " ARIMA(0,0,1)(0,0,2)[12] intercept   : AIC=-617.943, Time=1.00 sec\n",
      " ARIMA(0,0,1)(1,0,2)[12] intercept   : AIC=-621.936, Time=1.34 sec\n",
      " ARIMA(0,0,1)(2,0,2)[12] intercept   : AIC=inf, Time=1.86 sec\n",
      " ARIMA(0,0,1)(2,0,1)[12] intercept   : AIC=-618.796, Time=1.47 sec\n",
      " ARIMA(0,0,0)(1,0,2)[12] intercept   : AIC=-541.775, Time=0.50 sec\n",
      " ARIMA(1,0,1)(1,0,2)[12] intercept   : AIC=-626.183, Time=1.79 sec\n",
      " ARIMA(1,0,1)(0,0,2)[12] intercept   : AIC=-622.983, Time=1.23 sec\n",
      " ARIMA(1,0,1)(1,0,1)[12] intercept   : AIC=-632.315, Time=0.53 sec\n",
      " ARIMA(1,0,1)(0,0,1)[12] intercept   : AIC=-620.989, Time=0.24 sec\n",
      " ARIMA(1,0,1)(1,0,0)[12] intercept   : AIC=-622.170, Time=0.25 sec\n",
      " ARIMA(1,0,1)(2,0,1)[12] intercept   : AIC=-622.785, Time=1.45 sec\n",
      " ARIMA(1,0,1)(0,0,0)[12] intercept   : AIC=-619.046, Time=0.09 sec\n",
      " ARIMA(1,0,1)(2,0,0)[12] intercept   : AIC=-623.505, Time=1.06 sec\n",
      " ARIMA(1,0,1)(2,0,2)[12] intercept   : AIC=-628.796, Time=1.69 sec\n",
      " ARIMA(1,0,0)(1,0,1)[12] intercept   : AIC=inf, Time=0.42 sec\n",
      " ARIMA(2,0,1)(1,0,1)[12] intercept   : AIC=-624.092, Time=0.58 sec\n",
      " ARIMA(1,0,2)(1,0,1)[12] intercept   : AIC=-631.514, Time=0.73 sec\n",
      " ARIMA(0,0,0)(1,0,1)[12] intercept   : AIC=inf, Time=0.44 sec\n",
      " ARIMA(0,0,2)(1,0,1)[12] intercept   : AIC=inf, Time=0.57 sec\n",
      " ARIMA(2,0,0)(1,0,1)[12] intercept   : AIC=-626.975, Time=0.54 sec\n",
      " ARIMA(1,0,1)(1,0,1)[12]             : AIC=inf, Time=0.41 sec\n",
      "\n",
      "Best model:  ARIMA(1,0,1)(1,0,1)[12] intercept\n",
      "Total fit time: 19.976 seconds\n",
      "                                     SARIMAX Results                                      \n",
      "==========================================================================================\n",
      "Dep. Variable:                                  y   No. Observations:                  189\n",
      "Model:             SARIMAX(1, 0, 1)x(1, 0, 1, 12)   Log Likelihood                 322.157\n",
      "Date:                            Sun, 25 May 2025   AIC                           -632.315\n",
      "Time:                                    11:35:49   BIC                           -612.864\n",
      "Sample:                                02-01-2007   HQIC                          -624.435\n",
      "                                     - 10-01-2022                                         \n",
      "Covariance Type:                              opg                                         \n",
      "==============================================================================\n",
      "                 coef    std err          z      P>|z|      [0.025      0.975]\n",
      "------------------------------------------------------------------------------\n",
      "intercept      0.0001      0.000      0.344      0.731      -0.001       0.001\n",
      "ar.L1          0.2989      0.088      3.406      0.001       0.127       0.471\n",
      "ma.L1          0.4486      0.085      5.273      0.000       0.282       0.615\n",
      "ar.S.L12       0.9656      0.056     17.093      0.000       0.855       1.076\n",
      "ma.S.L12      -0.8852      0.109     -8.118      0.000      -1.099      -0.671\n",
      "sigma2         0.0019      0.000     11.208      0.000       0.002       0.002\n",
      "===================================================================================\n",
      "Ljung-Box (L1) (Q):                   0.02   Jarque-Bera (JB):               107.57\n",
      "Prob(Q):                              0.90   Prob(JB):                         0.00\n",
      "Heteroskedasticity (H):               1.20   Skew:                            -0.61\n",
      "Prob(H) (two-sided):                  0.47   Kurtosis:                         6.49\n",
      "===================================================================================\n",
      "\n",
      "Warnings:\n",
      "[1] Covariance matrix calculated using the outer product of gradients (complex-step).\n",
      "\n",
      "Melhor modelo ARIMA: (1, 0, 1) com sazonalidade (1, 0, 1, 12)\n"
     ]
    }
   ],
   "source": [
    "modelo_auto = auto_arima(\n",
    "    y_train_clean,\n",
    "    exogenous=X_train_clean,    # variável exógena\n",
    "    seasonal=True,\n",
    "    m=12,\n",
    "    stepwise=True,\n",
    "    trace=True,\n",
    "    error_action='ignore',\n",
    "    suppress_warnings=True,\n",
    "    max_p=5, max_q=5,\n",
    "    max_P=2, max_Q=2,\n",
    "    max_d=2, max_D=1\n",
    ")\n",
    "\n",
    "print(modelo_auto.summary())\n",
    "print(f\"\\nMelhor modelo ARIMA: {modelo_auto.order} com sazonalidade {modelo_auto.seasonal_order}\")"
   ]
  },
  {
   "cell_type": "markdown",
   "id": "f4d8453d",
   "metadata": {},
   "source": [
    "Definindo o modelo SARIMAX com os parâmetros escolhidos"
   ]
  },
  {
   "cell_type": "code",
   "execution_count": 83,
   "id": "471bd497",
   "metadata": {},
   "outputs": [
    {
     "name": "stdout",
     "output_type": "stream",
     "text": [
      "                                     SARIMAX Results                                      \n",
      "==========================================================================================\n",
      "Dep. Variable:               preco_leite_produtor   No. Observations:                  189\n",
      "Model:             SARIMAX(1, 0, 1)x(1, 0, 1, 12)   Log Likelihood                 366.208\n",
      "Date:                            Sun, 25 May 2025   AIC                           -718.417\n",
      "Time:                                    11:35:49   BIC                           -696.263\n",
      "Sample:                                02-01-2007   HQIC                          -709.430\n",
      "                                     - 10-01-2022                                         \n",
      "Covariance Type:                              opg                                         \n",
      "==========================================================================================\n",
      "                             coef    std err          z      P>|z|      [0.025      0.975]\n",
      "------------------------------------------------------------------------------------------\n",
      "leite_uht_industria        0.2612      0.021     12.262      0.000       0.219       0.303\n",
      "leite_uht_supermercado     0.4310      0.041     10.524      0.000       0.351       0.511\n",
      "ar.L1                      0.3586      0.126      2.848      0.004       0.112       0.605\n",
      "ma.L1                      0.1479      0.136      1.089      0.276      -0.118       0.414\n",
      "ar.S.L12                   0.6591      0.077      8.531      0.000       0.508       0.811\n",
      "ma.S.L12                  -0.6379      0.101     -6.287      0.000      -0.837      -0.439\n",
      "sigma2                     0.0009   7.41e-05     11.602      0.000       0.001       0.001\n",
      "===================================================================================\n",
      "Ljung-Box (L1) (Q):                   0.00   Jarque-Bera (JB):                86.45\n",
      "Prob(Q):                              0.99   Prob(JB):                         0.00\n",
      "Heteroskedasticity (H):               1.39   Skew:                            -0.27\n",
      "Prob(H) (two-sided):                  0.22   Kurtosis:                         6.40\n",
      "===================================================================================\n",
      "\n",
      "Warnings:\n",
      "[1] Covariance matrix calculated using the outer product of gradients (complex-step).\n"
     ]
    }
   ],
   "source": [
    "modelo_sarimax = SARIMAX(\n",
    "    endog= y_train_clean,\n",
    "    exog = X_train_clean,\n",
    "    order=(1, 0, 1),\n",
    "    seasonal_order= (1, 0, 1, 12),\n",
    "    enforce_stationarity= False,\n",
    "    enforce_invertibility=False\n",
    ")\n",
    "\n",
    "resultado = modelo_sarimax.fit(disp=False, maxiter=300, method='lbfgs')\n",
    "print(resultado.summary())"
   ]
  },
  {
   "cell_type": "code",
   "execution_count": 84,
   "id": "7a467640",
   "metadata": {},
   "outputs": [],
   "source": [
    "# Fazendo previsões\n",
    "y_pred = resultado.predict(start = y_test.index.min(), end = y_test.index.max(), exog = X_test)"
   ]
  },
  {
   "cell_type": "code",
   "execution_count": null,
   "id": "525b2a94",
   "metadata": {},
   "outputs": [
    {
     "name": "stdout",
     "output_type": "stream",
     "text": [
      "RMSE no conjunto de teste: 0.0268\n",
      "R² no conjunto de teste: 0.6968\n"
     ]
    }
   ],
   "source": [
    "rmse = np.sqrt(mean_squared_error(y_test, y_pred))\n",
    "print(f'RMSE no conjunto de teste: {rmse:.4f}')"
   ]
  },
  {
   "cell_type": "markdown",
   "id": "87b9506a",
   "metadata": {},
   "source": [
    "### Revertendo as transformações\n",
    "\n",
    "Nos dados utilizados, aplicamos duas transformações sequenciais: primeiro, a transformação logarítmica, seguida da diferenciação. Embora o RMSE obtido seja de 0,0268, esse valor refere-se aos dados transformados e não à escala original dos preços.\n",
    "\n",
    "Para interpretar corretamente a performance do modelo, é necessário reverter essas transformações e trazer as previsões de volta à escala real dos dados. A seguir, será realizado esse processo de reversão para obter os valores na unidade original."
   ]
  },
  {
   "cell_type": "code",
   "execution_count": 96,
   "id": "14957d7f",
   "metadata": {},
   "outputs": [
    {
     "name": "stdout",
     "output_type": "stream",
     "text": [
      "            leite_uht_industria  leite_uht_supermercado  preco_leite_produtor\n",
      "data                                                                         \n",
      "2007-01-01             2.983468                1.422492              0.450872\n",
      "2007-02-01             2.983468                1.412007              0.480057\n",
      "2007-03-01             2.983468                1.427207              0.500857\n",
      "2007-04-01             2.983468                1.471410              0.544433\n",
      "2007-05-01             2.983468                1.613760              0.586239\n"
     ]
    }
   ],
   "source": [
    "# Carregando o dataset original\n",
    "\n",
    "dados_certos = pd.read_csv(r\"C:\\Users\\eduar\\OneDrive\\Documentos\\SandoBox\\Projetos\\PriceCast\\Dataset\\dados_certos.csv\", index_col= 0)\n",
    "dados_certos.index = pd.to_datetime(dados_certos.index, errors='coerce')\n",
    "\n",
    "print(dados_certos.head())"
   ]
  },
  {
   "cell_type": "code",
   "execution_count": 98,
   "id": "20645323",
   "metadata": {},
   "outputs": [
    {
     "data": {
      "text/plain": [
       "data\n",
       "2007-01-01    0.450872\n",
       "2007-02-01    0.480057\n",
       "2007-03-01    0.500857\n",
       "2007-04-01    0.544433\n",
       "2007-05-01    0.586239\n",
       "                ...   \n",
       "2024-08-01    2.760700\n",
       "2024-09-01    2.865700\n",
       "2024-10-01    2.806500\n",
       "2024-11-01    2.637400\n",
       "2024-12-01    2.580500\n",
       "Name: preco_leite_produtor, Length: 199, dtype: float64"
      ]
     },
     "execution_count": 98,
     "metadata": {},
     "output_type": "execute_result"
    }
   ],
   "source": [
    "dados_certos['preco_leite_produtor']"
   ]
  },
  {
   "cell_type": "code",
   "execution_count": 97,
   "id": "4a436c11",
   "metadata": {},
   "outputs": [
    {
     "data": {
      "text/html": [
       "<div>\n",
       "<style scoped>\n",
       "    .dataframe tbody tr th:only-of-type {\n",
       "        vertical-align: middle;\n",
       "    }\n",
       "\n",
       "    .dataframe tbody tr th {\n",
       "        vertical-align: top;\n",
       "    }\n",
       "\n",
       "    .dataframe thead th {\n",
       "        text-align: right;\n",
       "    }\n",
       "</style>\n",
       "<table border=\"1\" class=\"dataframe\">\n",
       "  <thead>\n",
       "    <tr style=\"text-align: right;\">\n",
       "      <th></th>\n",
       "      <th>preco_leite_produtor</th>\n",
       "    </tr>\n",
       "    <tr>\n",
       "      <th>data</th>\n",
       "      <th></th>\n",
       "    </tr>\n",
       "  </thead>\n",
       "  <tbody>\n",
       "    <tr>\n",
       "      <th>2007-01-01</th>\n",
       "      <td>0.450872</td>\n",
       "    </tr>\n",
       "    <tr>\n",
       "      <th>2007-02-01</th>\n",
       "      <td>0.480057</td>\n",
       "    </tr>\n",
       "    <tr>\n",
       "      <th>2007-03-01</th>\n",
       "      <td>0.500857</td>\n",
       "    </tr>\n",
       "  </tbody>\n",
       "</table>\n",
       "</div>"
      ],
      "text/plain": [
       "            preco_leite_produtor\n",
       "data                            \n",
       "2007-01-01              0.450872\n",
       "2007-02-01              0.480057\n",
       "2007-03-01              0.500857"
      ]
     },
     "execution_count": 97,
     "metadata": {},
     "output_type": "execute_result"
    }
   ],
   "source": [
    "dados_certos[['preco_leite_produtor']].head(3)"
   ]
  },
  {
   "cell_type": "markdown",
   "id": "16f9b6f4",
   "metadata": {},
   "source": [
    "### O processo de reconstrução será feito em algumas partes\n",
    "\n",
    "- Guardar uma cópia da série original.\n",
    "\n",
    "Salvamos uma cópia da série original do preço do leite. Isso é importante para que possamos comparar nossas previsões com os valores reais na escala orginal.\n",
    "\n",
    "- Aplicar o logaritmo na série temporal.\n",
    "\n",
    "Para estabilizar a variância e facilitar a modelagem, aplicamos a transformação logarítmica à série original. Essa transformação ajuda a deixar os dados mais \"comportados\" e evita que valores muito altos influenciem demais o modelo.\n",
    "\n",
    "- Selecionar o último valor do log antes do período de previsão.\n",
    "\n",
    "Precisamos do último valor conhecido antes da fase de previsao para reconstruir a série a partir das diferenças previstas pelo modelo. Esse valor funciona como ponto de partida para reverter a diferenciação.\n",
    "\n",
    "- Reconstruir a série no espaço do log.\n",
    "\n",
    "Como o modelo prevê as diferenças do logaritmo da série, somamos cumulativamente essas diferenças para reconstruir a série de logaritmos. Em seguida, somamos esse resultado ao último valor conhecido para obter a sequência completa de valores previstos no espaço logarítmico \n",
    "\n",
    "- Converter as previsões do log para a escala original\n",
    "\n",
    "Como aplicamos o log no ínicio, para voltar à escala original aplicamos a exponencial (função inversa do log). Assim, obtermos as previsões do preço do leite, para o mesmo período em que fizemos a previsão, para comparar com as previsões do modelo.\n",
    "\n",
    "- Recuperar os valores original do preço do leite para o péríodo de teste\n",
    "\n",
    "Selecionamos os valores reais do preço do leite, para o mesmo período em que fizemos a previsão, para comparar com as previsões do modelo.\n"
   ]
  },
  {
   "cell_type": "code",
   "execution_count": null,
   "id": "a95b8b07",
   "metadata": {},
   "outputs": [
    {
     "name": "stdout",
     "output_type": "stream",
     "text": [
      "RMSE no valor original: 0.1925\n",
      "MAE no valor original: 0.1449\n"
     ]
    }
   ],
   "source": [
    "preco_original = dados_certos['preco_leite_produtor'].copy()\n",
    "y_log = np.log(preco_original)\n",
    "\n",
    "# Último valor do log antes do início do período de previsão (último índice do treino)\n",
    "ultimo_log = y_log.loc[y_train.index[-1]]\n",
    "\n",
    "# y_pred previsão das diferenças do log\n",
    "\n",
    "# Reconstrói o log acumulando as diferenças previstas e somando o último log conhecido\n",
    "y_log_pred = y_pred.cumsum() + ultimo_log\n",
    "\n",
    "# Converte do log para a escala original\n",
    "y_pred_original = np.exp(y_log_pred)\n",
    "\n",
    "# Recupera os valores originais do preço do leite para o período de teste\n",
    "y_test_original = preco_original.loc[y_test.index]\n",
    "\n",
    "# Calcula RMSE e MAE entre valores originais e previsão reconstruída\n",
    "rmse_original = np.sqrt(mean_squared_error(y_test_original, y_pred_original))\n",
    "mae_original = mean_absolute_error(y_test_original, y_pred_original)\n",
    "\n",
    "print(f\"RMSE no valor original: {rmse_original:.4f}\")\n",
    "print(f\"MAE no valor original: {mae_original:.4f}\")"
   ]
  },
  {
   "cell_type": "code",
   "execution_count": 89,
   "id": "b23eff7e",
   "metadata": {},
   "outputs": [
    {
     "data": {
      "image/png": "[encoded data removed]",
      "text/plain": [
       "<Figure size 1200x600 with 1 Axes>"
      ]
     },
     "metadata": {},
     "output_type": "display_data"
    }
   ],
   "source": [
    "plt.figure(figsize=(12,6))\n",
    "plt.plot(y_train.index, y_train, label='Treino (real)')\n",
    "plt.plot(y_test.index, y_test, label='Teste (real)')\n",
    "plt.plot(y_pred.index, y_pred, label='Previsão', linestyle='--')\n",
    "plt.xlabel('Data')\n",
    "plt.ylabel('Preço do leite')\n",
    "plt.title('Previsão SARIMAX vs Real')\n",
    "plt.legend()\n",
    "plt.show()"
   ]
  },
  {
   "cell_type": "markdown",
   "id": "b25a18e5",
   "metadata": {},
   "source": [
    "### Análise do Modelo SARIMAX para Previsão do Preço do Leite\n",
    "\n",
    "Foi utilizado um modelo SARIMAX para prever o preço do leite pago ao produtor. Antes de ajustar o modelo, a série de preços foi transformada com logaritmo para estabilizar a variância e melhorar o desempenho do modelo. Após gerar as previsões, os valores foram convertidos de volta para a escala original para facilitar a interpretação.\n",
    "\n",
    "As previsões foram então comparadas com os dados reais do conjunto de teste para avaliar a qualidade do modelo.\n",
    "\n",
    "**Resultados (na escala original dos preços)**\n",
    "\n",
    "- **RMSE (erro quadrático médio):** 0.1925  \n",
    "- **MAE (erro absoluto médio):** 0.1449\n",
    "\n",
    "Esses números indicam que, em média, o modelo errou entre 14 e 19 centavos por previsão. Considerando que os preços reais variam entre aproximadamente R$0,45 e R$2,86 ao longo da série, os erros estão dentro de um intervalo aceitável. Isso mostra que o modelo conseguiu capturar bem a dinâmica da série de preços.\n",
    "\n",
    "\n",
    "Visualmente, é possível perceber que as previsões seguem de forma coerente o comportamento real dos preços, inclusive acompanhando os padrões de subida e descida do período de teste.\n",
    "\n",
    "Conclusão\n",
    "\n",
    "O modelo SARIMAX se mostrou eficiente para prever o preço do leite ao produtor. Ele apresentou erros baixos e um comportamento de previsão que condiz com os dados reais, tanto em termos de tendência quanto de sazonalidade. Isso o torna uma boa ferramenta para análise e projeção futura dessa variável."
   ]
  },
  {
   "cell_type": "code",
   "execution_count": 109,
   "id": "90a33973",
   "metadata": {},
   "outputs": [
    {
     "name": "stdout",
     "output_type": "stream",
     "text": [
      "Modelo salvo com sucesso em:\n",
      "C:\\Users\\eduar\\OneDrive\\Documentos\\SandoBox\\Projetos\\PriceCast\\modelo\\modelo_sarimax.pkl\n"
     ]
    }
   ],
   "source": [
    "caminho = r'C:\\Users\\eduar\\OneDrive\\Documentos\\SandoBox\\Projetos\\PriceCast\\modelo\\modelo_sarimax.pkl'\n",
    "\n",
    "diretorio = os.path.dirname(caminho)\n",
    "if not os.path.exists(diretorio):\n",
    "    os.makedirs(diretorio)  # Cria o diretório se ele não existir\n",
    "\n",
    "with open(caminho, 'wb') as f:\n",
    "    pickle.dump(modelo_sarimax, f)\n",
    "\n",
    "print(f\"Modelo salvo com sucesso em:\\n{caminho}\")"
   ]
  }
 ],
 "metadata": {
  "kernelspec": {
   "display_name": "base",
   "language": "python",
   "name": "python3"
  },
  "language_info": {
   "codemirror_mode": {
    "name": "ipython",
    "version": 3
   },
   "file_extension": ".py",
   "mimetype": "text/x-python",
   "name": "python",
   "nbconvert_exporter": "python",
   "pygments_lexer": "ipython3",
   "version": "3.11.7"
  }
 },
 "nbformat": 4,
 "nbformat_minor": 5
}
